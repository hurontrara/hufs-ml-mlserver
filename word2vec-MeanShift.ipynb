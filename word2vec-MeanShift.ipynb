{
 "cells": [
  {
   "cell_type": "code",
   "execution_count": 1,
   "id": "initial_id",
   "metadata": {
    "collapsed": true,
    "ExecuteTime": {
     "end_time": "2023-11-24T00:21:29.963448300Z",
     "start_time": "2023-11-24T00:21:28.879821200Z"
    }
   },
   "outputs": [
    {
     "name": "stderr",
     "output_type": "stream",
     "text": [
      "C:\\Users\\samsung\\anaconda3\\lib\\site-packages\\numpy\\_distributor_init.py:30: UserWarning: loaded more than 1 DLL from .libs:\n",
      "C:\\Users\\samsung\\anaconda3\\lib\\site-packages\\numpy\\.libs\\libopenblas.EL2C6PLE4ZYW3ECEVIV3OXXGRN2NRFM2.gfortran-win_amd64.dll\n",
      "C:\\Users\\samsung\\anaconda3\\lib\\site-packages\\numpy\\.libs\\libopenblas.XWYDX2IKJW2NMTWSFYNGFUWKQU3LYTCZ.gfortran-win_amd64.dll\n",
      "  warnings.warn(\"loaded more than 1 DLL from .libs:\"\n"
     ]
    }
   ],
   "source": [
    "import numpy as np\n",
    "import pandas as pd\n",
    "import matplotlib.pyplot as plt"
   ]
  },
  {
   "cell_type": "code",
   "execution_count": 2,
   "outputs": [],
   "source": [
    "data1 = pd.read_csv(\"file_1-500.csv\")\n",
    "data1 = data1.dropna()\n",
    "\n",
    "data2 = pd.read_csv(\"file_501-1000.csv\")\n",
    "data2 = data2.drop(columns='Unnamed: 2')\n",
    "data2 = data2.dropna()\n",
    "\n",
    "data3 = pd.read_csv(\"file_1001-1500.csv\")\n",
    "data3 = data3.dropna()\n",
    "\n",
    "data4 = pd.read_csv(\"file_1501-2000.csv\")\n",
    "data4 = data4.drop(columns='Unnamed: 2')\n",
    "data4 = data4.dropna()\n",
    "\n",
    "data5 = pd.read_csv(\"file_2001-2500.csv\")\n",
    "data5 = data5.dropna()"
   ],
   "metadata": {
    "collapsed": false,
    "ExecuteTime": {
     "end_time": "2023-11-24T00:21:32.717435100Z",
     "start_time": "2023-11-24T00:21:32.684609Z"
    }
   },
   "id": "f390ed3679f919db"
  },
  {
   "cell_type": "code",
   "execution_count": 3,
   "outputs": [],
   "source": [
    "data = pd.concat((data1,data2,data3,data4,data5))\n",
    "data_size = len(data)"
   ],
   "metadata": {
    "collapsed": false,
    "ExecuteTime": {
     "end_time": "2023-11-23T17:22:04.936990700Z",
     "start_time": "2023-11-23T17:22:04.925923200Z"
    }
   },
   "id": "2550bb97f50bf85d"
  },
  {
   "cell_type": "code",
   "execution_count": 4,
   "outputs": [
    {
     "data": {
      "text/plain": "          file_name label\n0        file_1.jpg    소외\n1        file_2.jpg  다이어트\n2        file_3.jpg    실패\n3        file_4.jpg    긍정\n4        file_5.jpg    피자\n...             ...   ...\n2450  file_2496.jpg   첫사랑\n2451  file_2497.jpg    격분\n2452  file_2498.jpg    추방\n2453  file_2499.jpg    친구\n2454  file_2500.jpg    포기\n\n[2455 rows x 2 columns]",
      "text/html": "<div>\n<style scoped>\n    .dataframe tbody tr th:only-of-type {\n        vertical-align: middle;\n    }\n\n    .dataframe tbody tr th {\n        vertical-align: top;\n    }\n\n    .dataframe thead th {\n        text-align: right;\n    }\n</style>\n<table border=\"1\" class=\"dataframe\">\n  <thead>\n    <tr style=\"text-align: right;\">\n      <th></th>\n      <th>file_name</th>\n      <th>label</th>\n    </tr>\n  </thead>\n  <tbody>\n    <tr>\n      <th>0</th>\n      <td>file_1.jpg</td>\n      <td>소외</td>\n    </tr>\n    <tr>\n      <th>1</th>\n      <td>file_2.jpg</td>\n      <td>다이어트</td>\n    </tr>\n    <tr>\n      <th>2</th>\n      <td>file_3.jpg</td>\n      <td>실패</td>\n    </tr>\n    <tr>\n      <th>3</th>\n      <td>file_4.jpg</td>\n      <td>긍정</td>\n    </tr>\n    <tr>\n      <th>4</th>\n      <td>file_5.jpg</td>\n      <td>피자</td>\n    </tr>\n    <tr>\n      <th>...</th>\n      <td>...</td>\n      <td>...</td>\n    </tr>\n    <tr>\n      <th>2450</th>\n      <td>file_2496.jpg</td>\n      <td>첫사랑</td>\n    </tr>\n    <tr>\n      <th>2451</th>\n      <td>file_2497.jpg</td>\n      <td>격분</td>\n    </tr>\n    <tr>\n      <th>2452</th>\n      <td>file_2498.jpg</td>\n      <td>추방</td>\n    </tr>\n    <tr>\n      <th>2453</th>\n      <td>file_2499.jpg</td>\n      <td>친구</td>\n    </tr>\n    <tr>\n      <th>2454</th>\n      <td>file_2500.jpg</td>\n      <td>포기</td>\n    </tr>\n  </tbody>\n</table>\n<p>2455 rows × 2 columns</p>\n</div>"
     },
     "execution_count": 4,
     "metadata": {},
     "output_type": "execute_result"
    }
   ],
   "source": [
    "data.reset_index(drop=True)"
   ],
   "metadata": {
    "collapsed": false,
    "ExecuteTime": {
     "end_time": "2023-11-23T17:22:04.968145600Z",
     "start_time": "2023-11-23T17:22:04.945469800Z"
    }
   },
   "id": "b2a694f64b2cac09"
  },
  {
   "cell_type": "code",
   "execution_count": 5,
   "outputs": [],
   "source": [
    "label = data['label']"
   ],
   "metadata": {
    "collapsed": false,
    "ExecuteTime": {
     "end_time": "2023-11-23T17:22:04.997070600Z",
     "start_time": "2023-11-23T17:22:04.970145500Z"
    }
   },
   "id": "e3cbadf280e6d295"
  },
  {
   "cell_type": "code",
   "execution_count": 6,
   "outputs": [
    {
     "name": "stdout",
     "output_type": "stream",
     "text": [
      "Requirement already satisfied: gensim==3.8.0 in c:\\users\\samsung\\anaconda3\\lib\\site-packages (3.8.0)\n",
      "Requirement already satisfied: smart-open>=1.7.0 in c:\\users\\samsung\\anaconda3\\lib\\site-packages (from gensim==3.8.0) (5.2.1)\n",
      "Requirement already satisfied: six>=1.5.0 in c:\\users\\samsung\\anaconda3\\lib\\site-packages (from gensim==3.8.0) (1.16.0)\n",
      "Requirement already satisfied: scipy>=0.18.1 in c:\\users\\samsung\\anaconda3\\lib\\site-packages (from gensim==3.8.0) (1.7.3)\n",
      "Requirement already satisfied: numpy>=1.11.3 in c:\\users\\samsung\\anaconda3\\lib\\site-packages (from gensim==3.8.0) (1.22.4)\n"
     ]
    },
    {
     "name": "stderr",
     "output_type": "stream",
     "text": [
      "WARNING: Ignoring invalid distribution -umpy (c:\\users\\samsung\\anaconda3\\lib\\site-packages)\n",
      "WARNING: Ignoring invalid distribution -umpy (c:\\users\\samsung\\anaconda3\\lib\\site-packages)\n",
      "WARNING: Ignoring invalid distribution -umpy (c:\\users\\samsung\\anaconda3\\lib\\site-packages)\n",
      "WARNING: Ignoring invalid distribution -umpy (c:\\users\\samsung\\anaconda3\\lib\\site-packages)\n",
      "WARNING: Ignoring invalid distribution -umpy (c:\\users\\samsung\\anaconda3\\lib\\site-packages)\n",
      "WARNING: Ignoring invalid distribution -umpy (c:\\users\\samsung\\anaconda3\\lib\\site-packages)\n"
     ]
    }
   ],
   "source": [
    "!pip install gensim==3.8.0\n",
    "import gensim"
   ],
   "metadata": {
    "collapsed": false,
    "ExecuteTime": {
     "end_time": "2023-11-23T17:22:09.925644500Z",
     "start_time": "2023-11-23T17:22:04.983719600Z"
    }
   },
   "id": "df4194365778cf82"
  },
  {
   "cell_type": "code",
   "execution_count": 7,
   "outputs": [
    {
     "name": "stderr",
     "output_type": "stream",
     "text": [
      "C:\\Users\\samsung\\anaconda3\\lib\\site-packages\\gensim\\models\\base_any2vec.py:742: UserWarning: C extension not loaded, training will be slow. Install a C compiler and reinstall gensim for fast training.\n",
      "  warnings.warn(\n"
     ]
    }
   ],
   "source": [
    "word2vec_model = gensim.models.Word2Vec.load('ko.bin') # https://github.com/Kyubyong/wordvectors -> word2vec model(kor) \n"
   ],
   "metadata": {
    "collapsed": false,
    "ExecuteTime": {
     "end_time": "2023-11-23T17:22:10.324732800Z",
     "start_time": "2023-11-23T17:22:09.927637900Z"
    }
   },
   "id": "c3f241b63df658eb"
  },
  {
   "cell_type": "code",
   "execution_count": 8,
   "outputs": [
    {
     "name": "stdout",
     "output_type": "stream",
     "text": [
      "(2455, 200)\n"
     ]
    }
   ],
   "source": [
    "embedding_matrix = np.zeros((data_size, 200))\n",
    "print(np.shape(embedding_matrix))"
   ],
   "metadata": {
    "collapsed": false,
    "ExecuteTime": {
     "end_time": "2023-11-23T17:22:10.342633900Z",
     "start_time": "2023-11-23T17:22:10.325751400Z"
    }
   },
   "id": "72ddfef7daed1225"
  },
  {
   "cell_type": "code",
   "execution_count": 9,
   "outputs": [],
   "source": [
    "def get_vector(word):\n",
    "    if word in word2vec_model:\n",
    "        return word2vec_model[word]\n",
    "    else:\n",
    "        return None"
   ],
   "metadata": {
    "collapsed": false,
    "ExecuteTime": {
     "end_time": "2023-11-23T17:22:10.374464400Z",
     "start_time": "2023-11-23T17:22:10.341437400Z"
    }
   },
   "id": "2c030fc9cdadf2f"
  },
  {
   "cell_type": "code",
   "execution_count": 10,
   "outputs": [
    {
     "name": "stderr",
     "output_type": "stream",
     "text": [
      "C:\\Users\\samsung\\AppData\\Local\\Temp\\ipykernel_12988\\805029998.py:2: DeprecationWarning: Call to deprecated `__contains__` (Method will be removed in 4.0.0, use self.wv.__contains__() instead).\n",
      "  if word in word2vec_model:\n",
      "C:\\Users\\samsung\\AppData\\Local\\Temp\\ipykernel_12988\\805029998.py:3: DeprecationWarning: Call to deprecated `__getitem__` (Method will be removed in 4.0.0, use self.wv.__getitem__() instead).\n",
      "  return word2vec_model[word]\n"
     ]
    }
   ],
   "source": [
    "for i, word in enumerate(label):\n",
    "    vector_value = get_vector(word)\n",
    "    if vector_value is not None:\n",
    "        embedding_matrix[i] = vector_value"
   ],
   "metadata": {
    "collapsed": false,
    "ExecuteTime": {
     "end_time": "2023-11-23T17:22:10.387106Z",
     "start_time": "2023-11-23T17:22:10.357181100Z"
    }
   },
   "id": "89b643ffe70a66b1"
  },
  {
   "cell_type": "code",
   "execution_count": 11,
   "outputs": [
    {
     "data": {
      "text/plain": "array([-4.83972400e-01,  7.29992092e-01,  9.05890584e-01, -1.35291755e+00,\n       -5.34488618e-01, -2.46234655e-01, -1.42919064e+00,  5.20610988e-01,\n       -3.83976012e-01,  1.00803733e+00,  2.83408966e-02,  4.80269760e-01,\n       -6.45405054e-01, -1.01187992e+00,  8.56046826e-02,  1.67805719e+00,\n        1.65803547e-04,  4.11818087e-01, -6.03896677e-01,  1.48435843e+00,\n        1.53078878e+00,  5.96851647e-01,  6.65712535e-01, -8.62430274e-01,\n       -9.70557183e-02, -4.65859950e-01, -7.39128217e-02, -4.10421267e-02,\n       -5.82414508e-01,  1.38096178e+00, -7.94653520e-02, -9.05619740e-01,\n       -9.59751368e-01, -2.31023416e-01,  6.82591438e-01,  1.87213123e-01,\n        2.80106097e-01, -4.92035747e-01,  1.58267379e+00,  2.34381819e+00,\n        1.29630601e+00,  7.34715879e-01, -2.07634538e-01,  4.85457450e-01,\n       -7.05758572e-01,  8.94518569e-03,  1.30207002e+00, -1.89327717e-01,\n        4.53920782e-01, -5.20400763e-01,  2.05017850e-02,  2.14054156e-02,\n        7.15260148e-01,  1.68039131e+00, -1.58632040e+00, -8.63888919e-01,\n        1.10882819e+00, -1.49150267e-01,  6.19278729e-01,  5.01305878e-01,\n        2.09213272e-01,  1.71246326e+00,  1.63486660e+00, -7.04033852e-01,\n        7.85506424e-03, -5.86968780e-01, -5.02474427e-01,  2.03635886e-01,\n        6.30699813e-01,  1.02252650e+00, -9.94901597e-01, -1.55604410e+00,\n       -4.50542644e-02,  8.13000083e-01,  2.92794675e-01, -4.05974567e-01,\n        1.16996908e+00, -7.09261119e-01,  1.66675723e+00,  5.49864829e-01,\n       -9.79921818e-01,  9.10442114e-01,  7.95695603e-01,  8.73161733e-01,\n        1.52841479e-01, -2.56640285e-01, -7.32057035e-01,  7.41892934e-01,\n       -6.93205655e-01, -1.29065597e+00,  1.12955905e-01,  5.99247932e-01,\n        1.68816590e+00, -1.08928919e+00, -1.86998323e-01,  1.83108938e+00,\n        4.40530121e-01, -2.19677821e-01, -3.54646713e-01, -4.78685588e-01,\n        1.07380457e-01, -1.42065644e-01,  4.15221155e-01, -8.11993837e-01,\n        3.00199967e-02,  4.56548154e-01,  5.08292206e-02,  1.93966538e-01,\n       -5.11811733e-01,  7.96900809e-01,  3.39677244e-01, -9.13269699e-01,\n       -3.11934832e-03, -6.12215519e-01,  1.16020060e+00, -6.81078792e-01,\n        1.16851211e+00,  1.01832640e+00,  3.49157780e-01, -5.04296422e-01,\n       -4.86964220e-03,  2.30874717e-01,  9.29024339e-01, -9.23184991e-01,\n        1.00197768e+00,  1.05493438e+00, -1.05581927e+00, -1.63922787e+00,\n        1.21560252e+00, -4.07004915e-02,  8.76096010e-01, -2.36483321e-01,\n       -4.93430831e-02,  4.41025896e-03,  3.67311597e-01,  1.41011727e+00,\n        4.38566029e-01,  2.90525537e-02, -4.89075720e-01, -1.52640954e-01,\n        9.77125704e-01,  4.46311712e-01, -5.49033046e-01,  9.85357285e-01,\n       -3.65476429e-01,  2.69924733e-03,  4.79380548e-01, -1.30633399e-01,\n       -4.20916021e-01, -8.73624682e-02,  4.34234917e-01,  3.79725307e-01,\n       -6.91059113e-01, -3.75003964e-02, -1.12482190e+00,  3.56569320e-01,\n        7.52576627e-03,  2.00313047e-01,  6.28229439e-01, -7.49915302e-01,\n        3.41957770e-02,  1.42635810e+00,  8.99337418e-03, -8.12675714e-01,\n       -8.91605988e-02, -9.50153351e-01,  4.81330633e-01, -3.08638602e-01,\n       -8.13057244e-01, -2.67100092e-02, -1.86451748e-01,  6.45910859e-01,\n       -1.30111516e+00, -1.43557441e+00,  8.44976366e-01, -1.60146385e-01,\n        9.31324720e-01,  8.67073238e-01, -1.08777341e-02, -4.73689258e-01,\n       -5.97868621e-01,  3.60465676e-01,  6.44271195e-01, -3.68388265e-01,\n        6.52812660e-01,  7.89604962e-01,  1.07028008e+00, -6.02683425e-01,\n        9.10099328e-01,  4.47819471e-01,  2.41349727e-01,  1.74664512e-01,\n       -4.11605924e-01, -2.88752407e-01, -1.60789564e-01, -9.19029862e-02,\n        1.10707152e+00,  4.88668382e-01,  2.43338180e+00, -3.76584381e-02])"
     },
     "execution_count": 11,
     "metadata": {},
     "output_type": "execute_result"
    }
   ],
   "source": [
    "embedding_matrix[0]\n"
   ],
   "metadata": {
    "collapsed": false,
    "ExecuteTime": {
     "end_time": "2023-11-23T17:22:10.429091900Z",
     "start_time": "2023-11-23T17:22:10.387106Z"
    }
   },
   "id": "48696497c33a3fd9"
  },
  {
   "cell_type": "code",
   "execution_count": 12,
   "outputs": [
    {
     "name": "stderr",
     "output_type": "stream",
     "text": [
      "C:\\Users\\samsung\\AppData\\Local\\Temp\\ipykernel_12988\\2413365752.py:1: DeprecationWarning: Call to deprecated `__getitem__` (Method will be removed in 4.0.0, use self.wv.__getitem__() instead).\n",
      "  word2vec_model['소외']\n"
     ]
    },
    {
     "data": {
      "text/plain": "array([-4.83972400e-01,  7.29992092e-01,  9.05890584e-01, -1.35291755e+00,\n       -5.34488618e-01, -2.46234655e-01, -1.42919064e+00,  5.20610988e-01,\n       -3.83976012e-01,  1.00803733e+00,  2.83408966e-02,  4.80269760e-01,\n       -6.45405054e-01, -1.01187992e+00,  8.56046826e-02,  1.67805719e+00,\n        1.65803547e-04,  4.11818087e-01, -6.03896677e-01,  1.48435843e+00,\n        1.53078878e+00,  5.96851647e-01,  6.65712535e-01, -8.62430274e-01,\n       -9.70557183e-02, -4.65859950e-01, -7.39128217e-02, -4.10421267e-02,\n       -5.82414508e-01,  1.38096178e+00, -7.94653520e-02, -9.05619740e-01,\n       -9.59751368e-01, -2.31023416e-01,  6.82591438e-01,  1.87213123e-01,\n        2.80106097e-01, -4.92035747e-01,  1.58267379e+00,  2.34381819e+00,\n        1.29630601e+00,  7.34715879e-01, -2.07634538e-01,  4.85457450e-01,\n       -7.05758572e-01,  8.94518569e-03,  1.30207002e+00, -1.89327717e-01,\n        4.53920782e-01, -5.20400763e-01,  2.05017850e-02,  2.14054156e-02,\n        7.15260148e-01,  1.68039131e+00, -1.58632040e+00, -8.63888919e-01,\n        1.10882819e+00, -1.49150267e-01,  6.19278729e-01,  5.01305878e-01,\n        2.09213272e-01,  1.71246326e+00,  1.63486660e+00, -7.04033852e-01,\n        7.85506424e-03, -5.86968780e-01, -5.02474427e-01,  2.03635886e-01,\n        6.30699813e-01,  1.02252650e+00, -9.94901597e-01, -1.55604410e+00,\n       -4.50542644e-02,  8.13000083e-01,  2.92794675e-01, -4.05974567e-01,\n        1.16996908e+00, -7.09261119e-01,  1.66675723e+00,  5.49864829e-01,\n       -9.79921818e-01,  9.10442114e-01,  7.95695603e-01,  8.73161733e-01,\n        1.52841479e-01, -2.56640285e-01, -7.32057035e-01,  7.41892934e-01,\n       -6.93205655e-01, -1.29065597e+00,  1.12955905e-01,  5.99247932e-01,\n        1.68816590e+00, -1.08928919e+00, -1.86998323e-01,  1.83108938e+00,\n        4.40530121e-01, -2.19677821e-01, -3.54646713e-01, -4.78685588e-01,\n        1.07380457e-01, -1.42065644e-01,  4.15221155e-01, -8.11993837e-01,\n        3.00199967e-02,  4.56548154e-01,  5.08292206e-02,  1.93966538e-01,\n       -5.11811733e-01,  7.96900809e-01,  3.39677244e-01, -9.13269699e-01,\n       -3.11934832e-03, -6.12215519e-01,  1.16020060e+00, -6.81078792e-01,\n        1.16851211e+00,  1.01832640e+00,  3.49157780e-01, -5.04296422e-01,\n       -4.86964220e-03,  2.30874717e-01,  9.29024339e-01, -9.23184991e-01,\n        1.00197768e+00,  1.05493438e+00, -1.05581927e+00, -1.63922787e+00,\n        1.21560252e+00, -4.07004915e-02,  8.76096010e-01, -2.36483321e-01,\n       -4.93430831e-02,  4.41025896e-03,  3.67311597e-01,  1.41011727e+00,\n        4.38566029e-01,  2.90525537e-02, -4.89075720e-01, -1.52640954e-01,\n        9.77125704e-01,  4.46311712e-01, -5.49033046e-01,  9.85357285e-01,\n       -3.65476429e-01,  2.69924733e-03,  4.79380548e-01, -1.30633399e-01,\n       -4.20916021e-01, -8.73624682e-02,  4.34234917e-01,  3.79725307e-01,\n       -6.91059113e-01, -3.75003964e-02, -1.12482190e+00,  3.56569320e-01,\n        7.52576627e-03,  2.00313047e-01,  6.28229439e-01, -7.49915302e-01,\n        3.41957770e-02,  1.42635810e+00,  8.99337418e-03, -8.12675714e-01,\n       -8.91605988e-02, -9.50153351e-01,  4.81330633e-01, -3.08638602e-01,\n       -8.13057244e-01, -2.67100092e-02, -1.86451748e-01,  6.45910859e-01,\n       -1.30111516e+00, -1.43557441e+00,  8.44976366e-01, -1.60146385e-01,\n        9.31324720e-01,  8.67073238e-01, -1.08777341e-02, -4.73689258e-01,\n       -5.97868621e-01,  3.60465676e-01,  6.44271195e-01, -3.68388265e-01,\n        6.52812660e-01,  7.89604962e-01,  1.07028008e+00, -6.02683425e-01,\n        9.10099328e-01,  4.47819471e-01,  2.41349727e-01,  1.74664512e-01,\n       -4.11605924e-01, -2.88752407e-01, -1.60789564e-01, -9.19029862e-02,\n        1.10707152e+00,  4.88668382e-01,  2.43338180e+00, -3.76584381e-02],\n      dtype=float32)"
     },
     "execution_count": 12,
     "metadata": {},
     "output_type": "execute_result"
    }
   ],
   "source": [
    "word2vec_model['소외']"
   ],
   "metadata": {
    "collapsed": false,
    "ExecuteTime": {
     "end_time": "2023-11-23T17:22:10.439020200Z",
     "start_time": "2023-11-23T17:22:10.402086900Z"
    }
   },
   "id": "c80dd79dc8811319"
  },
  {
   "cell_type": "markdown",
   "source": [
    "## MEAN SHIFT"
   ],
   "metadata": {
    "collapsed": false
   },
   "id": "c9e2e4c9b8902f8e"
  },
  {
   "cell_type": "code",
   "execution_count": 14,
   "outputs": [
    {
     "name": "stdout",
     "output_type": "stream",
     "text": [
      "cluster labels 유형: [  0   1   2   3   4   5   6   7   8   9  10  11  12  13  14  15  16  17\n",
      "  18  19  20  21  22  23  24  25  26  27  28  29  30  31  32  33  34  35\n",
      "  36  37  38  39  40  41  42  43  44  45  46  47  48  49  50  51  52  53\n",
      "  54  55  56  57  58  59  60  61  62  63  64  65  66  67  68  69  70  71\n",
      "  72  73  74  75  76  77  78  79  80  81  82  83  84  85  86  87  88  89\n",
      "  90  91  92  93  94  95  96  97  98  99 100 101 102 103 104 105 106 107\n",
      " 108 109 110 111 112 113 114 115 116 117 118 119 120 121 122 123 124 125\n",
      " 126 127 128 129 130 131 132 133 134 135 136 137 138 139 140 141 142 143\n",
      " 144 145 146 147 148 149 150 151 152 153 154 155 156 157 158 159 160 161\n",
      " 162 163 164 165 166 167 168 169 170 171 172 173 174 175 176 177 178 179\n",
      " 180 181 182 183 184 185 186 187 188 189 190 191 192 193 194 195 196 197\n",
      " 198 199 200 201 202 203 204 205 206 207 208 209 210 211 212 213 214 215\n",
      " 216 217 218 219 220 221 222 223 224 225 226 227 228 229 230 231 232 233\n",
      " 234 235 236 237 238 239 240 241 242 243 244 245 246 247 248 249 250 251\n",
      " 252 253 254 255 256 257 258 259 260 261 262 263 264 265 266 267 268 269\n",
      " 270 271 272 273 274 275 276 277 278 279 280 281 282 283 284 285 286 287\n",
      " 288 289 290 291 292 293 294 295 296 297 298 299 300 301 302 303 304 305\n",
      " 306 307 308 309 310 311 312 313 314 315 316 317 318 319 320 321 322 323\n",
      " 324 325 326 327 328 329 330 331 332 333 334 335 336 337 338 339 340 341\n",
      " 342 343 344 345 346 347 348 349 350 351 352 353 354 355 356 357 358 359\n",
      " 360 361 362 363 364 365 366 367 368 369 370 371 372 373 374 375 376 377\n",
      " 378 379 380 381 382 383 384 385 386 387 388 389 390 391 392 393 394 395\n",
      " 396 397 398 399 400 401 402 403 404 405 406 407 408 409 410 411 412 413\n",
      " 414 415 416 417 418 419 420 421 422 423 424 425 426 427 428 429 430 431\n",
      " 432 433 434 435 436 437 438 439 440 441 442 443 444 445 446 447 448 449\n",
      " 450 451 452 453 454 455 456 457 458 459 460 461 462 463 464 465 466 467\n",
      " 468 469 470 471 472 473 474 475 476 477 478 479 480 481 482 483 484 485\n",
      " 486 487 488 489 490 491 492 493 494 495 496 497 498 499 500 501 502 503\n",
      " 504 505 506 507 508 509 510 511 512 513 514 515 516 517 518 519 520 521\n",
      " 522 523 524 525 526 527 528 529 530 531 532 533 534 535 536 537 538 539\n",
      " 540 541 542 543 544 545 546 547 548 549 550 551 552 553 554 555 556 557\n",
      " 558 559 560 561 562 563 564 565 566 567 568 569 570 571 572 573 574 575\n",
      " 576 577 578 579 580 581 582 583 584 585 586 587 588 589 590 591 592 593\n",
      " 594 595 596 597 598 599 600 601 602 603 604 605 606 607 608 609]\n"
     ]
    }
   ],
   "source": [
    "import numpy as np\n",
    "from sklearn.datasets import make_blobs\n",
    "from sklearn.cluster import MeanShift\n",
    "\n",
    "meanshift= MeanShift(bandwidth=0.9)\n",
    "cluster_labels = meanshift.fit_predict(embedding_matrix)\n",
    "print('cluster labels 유형:', np.unique(cluster_labels))"
   ],
   "metadata": {
    "collapsed": false,
    "ExecuteTime": {
     "end_time": "2023-11-23T17:27:44.543284500Z",
     "start_time": "2023-11-23T17:27:42.901921500Z"
    }
   },
   "id": "32c24f8fbf62f35f"
  },
  {
   "cell_type": "code",
   "execution_count": 15,
   "outputs": [
    {
     "name": "stdout",
     "output_type": "stream",
     "text": [
      "cluster labels 유형: [  0   1   2   3   4   5   6   7   8   9  10  11  12  13  14  15  16  17\n",
      "  18  19  20  21  22  23  24  25  26  27  28  29  30  31  32  33  34  35\n",
      "  36  37  38  39  40  41  42  43  44  45  46  47  48  49  50  51  52  53\n",
      "  54  55  56  57  58  59  60  61  62  63  64  65  66  67  68  69  70  71\n",
      "  72  73  74  75  76  77  78  79  80  81  82  83  84  85  86  87  88  89\n",
      "  90  91  92  93  94  95  96  97  98  99 100 101 102 103 104 105 106 107\n",
      " 108 109 110 111 112 113 114 115 116 117 118 119 120 121 122 123 124 125\n",
      " 126 127 128 129 130 131 132 133 134 135 136 137 138 139 140 141 142 143\n",
      " 144 145 146 147 148 149 150 151 152 153 154 155 156 157 158 159 160 161\n",
      " 162 163 164 165 166 167 168 169 170 171 172 173 174 175 176 177 178 179\n",
      " 180 181 182 183 184 185 186 187 188 189 190 191 192 193 194 195 196 197\n",
      " 198 199 200 201 202 203 204 205 206 207 208 209 210 211 212 213 214 215\n",
      " 216 217 218 219 220 221 222 223 224 225 226 227 228 229 230 231 232 233\n",
      " 234 235 236 237 238 239 240 241 242 243 244 245 246 247 248 249 250 251\n",
      " 252 253 254 255 256 257 258 259 260 261 262 263 264 265 266 267 268 269\n",
      " 270 271 272 273 274 275 276 277 278 279 280 281 282 283 284 285 286 287\n",
      " 288 289 290 291 292 293 294 295 296 297 298 299 300 301 302 303 304 305\n",
      " 306 307 308 309 310 311 312 313 314 315 316 317 318 319 320 321 322 323\n",
      " 324 325 326 327 328 329 330 331 332 333 334 335 336 337 338 339 340 341\n",
      " 342 343 344 345 346 347 348 349 350 351 352 353 354 355 356 357 358 359\n",
      " 360 361 362 363 364 365 366 367 368 369 370 371 372 373 374 375 376 377\n",
      " 378 379 380 381 382 383 384 385 386 387 388 389 390 391 392 393 394 395\n",
      " 396 397 398 399 400 401 402 403 404 405 406 407 408 409 410 411 412 413\n",
      " 414 415 416 417 418 419 420 421 422 423 424 425 426 427 428 429 430 431\n",
      " 432 433 434 435 436 437 438 439 440 441 442 443 444 445 446 447 448 449\n",
      " 450 451 452 453 454 455 456 457 458 459 460 461 462 463 464 465 466 467\n",
      " 468 469 470 471 472 473 474 475 476 477 478 479 480 481 482 483 484 485\n",
      " 486 487 488 489 490 491 492 493 494 495 496 497 498 499 500 501 502 503\n",
      " 504 505 506 507 508 509 510 511 512 513 514 515 516 517 518 519 520 521\n",
      " 522 523 524 525 526 527 528 529 530 531 532 533 534 535 536 537 538 539\n",
      " 540 541 542 543 544 545 546 547 548 549 550 551 552 553 554 555 556 557\n",
      " 558 559 560 561 562 563 564 565 566 567 568 569 570 571 572 573 574 575\n",
      " 576 577 578 579 580 581 582 583 584 585 586 587 588 589 590 591 592 593\n",
      " 594 595 596 597 598 599 600 601 602 603 604 605 606 607 608 609]\n"
     ]
    }
   ],
   "source": [
    "meanshift= MeanShift(bandwidth=1.0)\n",
    "cluster_labels = meanshift.fit_predict(embedding_matrix)\n",
    "print('cluster labels 유형:', np.unique(cluster_labels))"
   ],
   "metadata": {
    "collapsed": false,
    "ExecuteTime": {
     "end_time": "2023-11-23T17:29:30.685735700Z",
     "start_time": "2023-11-23T17:29:29.116968800Z"
    }
   },
   "id": "59e75516599cf792"
  },
  {
   "cell_type": "markdown",
   "source": [
    "#### 최적의 bandwidth 찾기"
   ],
   "metadata": {
    "collapsed": false
   },
   "id": "c51cfbaef42dd2c6"
  },
  {
   "cell_type": "code",
   "execution_count": 16,
   "outputs": [
    {
     "name": "stdout",
     "output_type": "stream",
     "text": [
      "bandwidth 값: 10.346\n"
     ]
    }
   ],
   "source": [
    "from sklearn.cluster import estimate_bandwidth\n",
    "\n",
    "bandwidth = estimate_bandwidth(embedding_matrix,quantile=0.25)\n",
    "print('bandwidth 값:', round(bandwidth,3))"
   ],
   "metadata": {
    "collapsed": false,
    "ExecuteTime": {
     "end_time": "2023-11-23T17:30:23.003680400Z",
     "start_time": "2023-11-23T17:30:22.773395600Z"
    }
   },
   "id": "b6f7824819b738cc"
  },
  {
   "cell_type": "code",
   "execution_count": 17,
   "outputs": [
    {
     "name": "stdout",
     "output_type": "stream",
     "text": [
      "cluster labels 유형: [  0   1   2   3   4   5   6   7   8   9  10  11  12  13  14  15  16  17\n",
      "  18  19  20  21  22  23  24  25  26  27  28  29  30  31  32  33  34  35\n",
      "  36  37  38  39  40  41  42  43  44  45  46  47  48  49  50  51  52  53\n",
      "  54  55  56  57  58  59  60  61  62  63  64  65  66  67  68  69  70  71\n",
      "  72  73  74  75  76  77  78  79  80  81  82  83  84  85  86  87  88  89\n",
      "  90  91  92  93  94  95  96  97  98  99 100 101 102 103 104 105 106 107\n",
      " 108 109 110 111 112 113 114 115 116 117 118 119 120 121 122 123 124 125\n",
      " 126 127 128 129 130 131 132 133 134 135 136 137 138 139 140 141 142 143\n",
      " 144 145 146 147 148 149 150 151 152 153 154 155 156 157 158 159 160 161\n",
      " 162 163 164 165 166 167 168 169 170 171 172 173 174 175 176 177 178 179\n",
      " 180 181 182 183 184 185 186 187 188 189 190 191 192 193 194 195 196 197\n",
      " 198 199 200 201 202 203 204 205 206 207 208 209 210 211 212 213 214 215\n",
      " 216 217 218 219 220 221 222 223 224 225 226 227 228 229 230 231 232 233\n",
      " 234 235 236 237 238 239 240 241 242 243 244 245 246 247 248 249 250 251\n",
      " 252 253 254 255 256 257 258 259 260 261 262 263 264 265 266 267 268 269\n",
      " 270 271 272 273 274 275 276 277 278 279 280 281 282 283 284 285 286 287\n",
      " 288 289 290 291 292 293 294 295 296 297 298 299 300 301 302 303 304 305\n",
      " 306 307 308 309 310 311 312 313]\n"
     ]
    }
   ],
   "source": [
    "meanshift= MeanShift(bandwidth=10)\n",
    "cluster_labels = meanshift.fit_predict(embedding_matrix)\n",
    "print('cluster labels 유형:', np.unique(cluster_labels))"
   ],
   "metadata": {
    "collapsed": false,
    "ExecuteTime": {
     "end_time": "2023-11-23T17:30:56.859780300Z",
     "start_time": "2023-11-23T17:30:51.031533100Z"
    }
   },
   "id": "d3e55cf59076965b"
  },
  {
   "cell_type": "code",
   "execution_count": 21,
   "outputs": [
    {
     "data": {
      "text/plain": "<bound method NDFrame.tail of          file_name label  meanshift_label\n0       file_1.jpg    소외                0\n1       file_2.jpg  다이어트                0\n2       file_3.jpg    실패              312\n3       file_4.jpg    긍정                0\n4       file_5.jpg    피자                0\n..             ...   ...              ...\n495  file_2496.jpg   첫사랑                0\n496  file_2497.jpg    격분                0\n497  file_2498.jpg    추방              123\n498  file_2499.jpg    친구               28\n499  file_2500.jpg    포기               30\n\n[2455 rows x 3 columns]>"
     },
     "execution_count": 21,
     "metadata": {},
     "output_type": "execute_result"
    }
   ],
   "source": [
    "data['meanshift_label']  = cluster_labels\n",
    "data.tail"
   ],
   "metadata": {
    "collapsed": false,
    "ExecuteTime": {
     "end_time": "2023-11-23T17:33:59.050294200Z",
     "start_time": "2023-11-23T17:33:58.997845700Z"
    }
   },
   "id": "27a8ba0b2cd2b3a8"
  },
  {
   "cell_type": "markdown",
   "source": [
    "## PCA 적용 후\n"
   ],
   "metadata": {
    "collapsed": false
   },
   "id": "9dfbc9536da753ad"
  },
  {
   "cell_type": "code",
   "execution_count": 22,
   "outputs": [
    {
     "name": "stdout",
     "output_type": "stream",
     "text": [
      "Requirement already satisfied: scikit-learn in c:\\users\\samsung\\anaconda3\\lib\\site-packages (1.3.2)\n",
      "Requirement already satisfied: joblib>=1.1.1 in c:\\users\\samsung\\anaconda3\\lib\\site-packages (from scikit-learn) (1.3.2)\n",
      "Requirement already satisfied: threadpoolctl>=2.0.0 in c:\\users\\samsung\\anaconda3\\lib\\site-packages (from scikit-learn) (3.2.0)\n",
      "Requirement already satisfied: numpy<2.0,>=1.17.3 in c:\\users\\samsung\\anaconda3\\lib\\site-packages (from scikit-learn) (1.22.4)\n",
      "Requirement already satisfied: scipy>=1.5.0 in c:\\users\\samsung\\anaconda3\\lib\\site-packages (from scikit-learn) (1.7.3)\n"
     ]
    },
    {
     "name": "stderr",
     "output_type": "stream",
     "text": [
      "WARNING: Ignoring invalid distribution -umpy (c:\\users\\samsung\\anaconda3\\lib\\site-packages)\n",
      "WARNING: Ignoring invalid distribution -umpy (c:\\users\\samsung\\anaconda3\\lib\\site-packages)\n",
      "WARNING: Ignoring invalid distribution -umpy (c:\\users\\samsung\\anaconda3\\lib\\site-packages)\n",
      "WARNING: Ignoring invalid distribution -umpy (c:\\users\\samsung\\anaconda3\\lib\\site-packages)\n",
      "WARNING: Ignoring invalid distribution -umpy (c:\\users\\samsung\\anaconda3\\lib\\site-packages)\n",
      "WARNING: Ignoring invalid distribution -umpy (c:\\users\\samsung\\anaconda3\\lib\\site-packages)\n"
     ]
    }
   ],
   "source": [
    "!pip install scikit-learn\n",
    "from sklearn.decomposition import PCA"
   ],
   "metadata": {
    "collapsed": false,
    "ExecuteTime": {
     "end_time": "2023-11-23T17:35:10.752908500Z",
     "start_time": "2023-11-23T17:35:07.518244500Z"
    }
   },
   "id": "459fcd3a95677564"
  },
  {
   "cell_type": "code",
   "execution_count": 23,
   "outputs": [
    {
     "data": {
      "text/plain": "          X         Y\n0  0.820741 -2.103317\n1 -3.056455 -0.119027\n2  4.329550 -5.089721\n3  0.286527 -1.943230\n4 -4.980274  1.726962",
      "text/html": "<div>\n<style scoped>\n    .dataframe tbody tr th:only-of-type {\n        vertical-align: middle;\n    }\n\n    .dataframe tbody tr th {\n        vertical-align: top;\n    }\n\n    .dataframe thead th {\n        text-align: right;\n    }\n</style>\n<table border=\"1\" class=\"dataframe\">\n  <thead>\n    <tr style=\"text-align: right;\">\n      <th></th>\n      <th>X</th>\n      <th>Y</th>\n    </tr>\n  </thead>\n  <tbody>\n    <tr>\n      <th>0</th>\n      <td>0.820741</td>\n      <td>-2.103317</td>\n    </tr>\n    <tr>\n      <th>1</th>\n      <td>-3.056455</td>\n      <td>-0.119027</td>\n    </tr>\n    <tr>\n      <th>2</th>\n      <td>4.329550</td>\n      <td>-5.089721</td>\n    </tr>\n    <tr>\n      <th>3</th>\n      <td>0.286527</td>\n      <td>-1.943230</td>\n    </tr>\n    <tr>\n      <th>4</th>\n      <td>-4.980274</td>\n      <td>1.726962</td>\n    </tr>\n  </tbody>\n</table>\n</div>"
     },
     "execution_count": 23,
     "metadata": {},
     "output_type": "execute_result"
    }
   ],
   "source": [
    "pca = PCA(n_components=2)\n",
    "PCA_result = pca.fit_transform(embedding_matrix)\n",
    "\n",
    "PCA_result = pd.DataFrame(PCA_result)\n",
    "PCA_result['X'] = PCA_result.iloc[0: ,0]\n",
    "PCA_result['Y'] = PCA_result.iloc[0:, 1]\n",
    "PCA_final = PCA_result[['X', 'Y']]\n",
    "PCA_final.head()"
   ],
   "metadata": {
    "collapsed": false,
    "ExecuteTime": {
     "end_time": "2023-11-23T17:35:11.637175300Z",
     "start_time": "2023-11-23T17:35:11.600045400Z"
    }
   },
   "id": "2e2352a809b57130"
  },
  {
   "cell_type": "code",
   "execution_count": 34,
   "outputs": [
    {
     "name": "stdout",
     "output_type": "stream",
     "text": [
      "bandwidth 값: 30.361\n"
     ]
    }
   ],
   "source": [
    "bandwidth = estimate_bandwidth(PCA_final,quantile=0.25)\n",
    "print('bandwidth 값:', round(bandwidth,3))"
   ],
   "metadata": {
    "collapsed": false,
    "ExecuteTime": {
     "end_time": "2023-11-23T17:44:05.977914700Z",
     "start_time": "2023-11-23T17:44:05.801257600Z"
    }
   },
   "id": "963d21287c1d7819"
  },
  {
   "cell_type": "code",
   "execution_count": 31,
   "outputs": [
    {
     "name": "stdout",
     "output_type": "stream",
     "text": [
      "cluster labels 유형: [  0   1   2   3   4   5   6   7   8   9  10  11  12  13  14  15  16  17\n",
      "  18  19  20  21  22  23  24  25  26  27  28  29  30  31  32  33  34  35\n",
      "  36  37  38  39  40  41  42  43  44  45  46  47  48  49  50  51  52  53\n",
      "  54  55  56  57  58  59  60  61  62  63  64  65  66  67  68  69  70  71\n",
      "  72  73  74  75  76  77  78  79  80  81  82  83  84  85  86  87  88  89\n",
      "  90  91  92  93  94  95  96  97  98  99 100 101 102 103 104 105 106 107\n",
      " 108 109 110 111 112 113 114 115 116 117 118 119 120 121 122 123 124 125\n",
      " 126 127 128 129 130 131 132 133 134 135 136 137 138 139 140 141 142 143\n",
      " 144 145 146 147 148 149 150 151 152 153 154 155 156 157 158 159 160 161\n",
      " 162 163 164 165 166 167 168 169 170 171 172 173 174 175 176 177 178 179\n",
      " 180 181 182 183 184 185 186 187 188 189 190 191 192 193 194 195 196 197\n",
      " 198 199 200 201 202 203 204 205 206 207 208 209 210 211 212 213 214 215\n",
      " 216 217 218 219 220 221 222 223 224 225 226 227 228 229 230 231 232 233\n",
      " 234 235 236 237 238 239 240 241 242 243 244 245 246 247 248 249 250 251\n",
      " 252 253 254 255 256 257 258 259 260 261 262 263 264 265 266 267 268 269\n",
      " 270 271 272 273 274 275 276 277 278 279 280 281 282 283 284 285 286 287\n",
      " 288 289 290]\n"
     ]
    }
   ],
   "source": [
    "meanshift= MeanShift(bandwidth=3.4)\n",
    "cluster_labels = meanshift.fit_predict(PCA_final)\n",
    "print('cluster labels 유형:', np.unique(cluster_labels))"
   ],
   "metadata": {
    "collapsed": false,
    "ExecuteTime": {
     "end_time": "2023-11-23T17:40:37.210915800Z",
     "start_time": "2023-11-23T17:40:35.634759800Z"
    }
   },
   "id": "38201cdf9a09f4e2"
  },
  {
   "cell_type": "code",
   "execution_count": 33,
   "outputs": [
    {
     "name": "stdout",
     "output_type": "stream",
     "text": [
      "             X         Y  meanshift_label\n",
      "0     0.820741 -2.103317               64\n",
      "1    -3.056455 -0.119027               67\n",
      "2     4.329550 -5.089721              212\n",
      "3     0.286527 -1.943230               72\n",
      "4    -4.980274  1.726962              103\n",
      "...        ...       ...              ...\n",
      "2450 -2.373950  0.561578              196\n",
      "2451  1.361248 -1.460700              116\n",
      "2452  2.982077 -4.665356              174\n",
      "2453  1.266099  8.248471               62\n",
      "2454  3.748985 -5.593308               27\n",
      "\n",
      "[2455 rows x 3 columns]\n"
     ]
    },
    {
     "name": "stderr",
     "output_type": "stream",
     "text": [
      "C:\\Users\\samsung\\AppData\\Local\\Temp\\ipykernel_12988\\1472646510.py:3: SettingWithCopyWarning: \n",
      "A value is trying to be set on a copy of a slice from a DataFrame.\n",
      "Try using .loc[row_indexer,col_indexer] = value instead\n",
      "\n",
      "See the caveats in the documentation: https://pandas.pydata.org/pandas-docs/stable/user_guide/indexing.html#returning-a-view-versus-a-copy\n",
      "  PCA_final['meanshift_label']  = cluster_labels\n",
      "C:\\Users\\samsung\\AppData\\Local\\Temp\\ipykernel_12988\\1472646510.py:13: UserWarning: You passed a edgecolor/edgecolors ('k') for an unfilled marker ('x').  Matplotlib is ignoring the edgecolor in favor of the facecolor.  This behavior may change in the future.\n",
      "  plt.scatter(x=label_cluster['X'], y=label_cluster['Y'], edgecolor='k',\n",
      "C:\\Users\\samsung\\AppData\\Local\\Temp\\ipykernel_12988\\1472646510.py:17: UserWarning: You passed a edgecolor/edgecolors ('k') for an unfilled marker ('x').  Matplotlib is ignoring the edgecolor in favor of the facecolor.  This behavior may change in the future.\n",
      "  plt.scatter(x=center_x_y[0], y=center_x_y[1], s=200, color='white',\n"
     ]
    },
    {
     "ename": "IndexError",
     "evalue": "list index out of range",
     "output_type": "error",
     "traceback": [
      "\u001B[1;31m---------------------------------------------------------------------------\u001B[0m",
      "\u001B[1;31mIndexError\u001B[0m                                Traceback (most recent call last)",
      "\u001B[1;32m~\\AppData\\Local\\Temp\\ipykernel_12988\\1472646510.py\u001B[0m in \u001B[0;36m<module>\u001B[1;34m\u001B[0m\n\u001B[0;32m     12\u001B[0m     \u001B[1;31m# 군집별로 다른 marker로 scatter plot 적용\u001B[0m\u001B[1;33m\u001B[0m\u001B[1;33m\u001B[0m\u001B[0m\n\u001B[0;32m     13\u001B[0m     plt.scatter(x=label_cluster['X'], y=label_cluster['Y'], edgecolor='k', \n\u001B[1;32m---> 14\u001B[1;33m                 marker=markers[label] )\n\u001B[0m\u001B[0;32m     15\u001B[0m \u001B[1;33m\u001B[0m\u001B[0m\n\u001B[0;32m     16\u001B[0m     \u001B[1;31m# 군집별 중심 시각화\u001B[0m\u001B[1;33m\u001B[0m\u001B[1;33m\u001B[0m\u001B[0m\n",
      "\u001B[1;31mIndexError\u001B[0m: list index out of range"
     ]
    },
    {
     "data": {
      "text/plain": "<Figure size 640x480 with 1 Axes>",
      "image/png": "[encoded data removed]"
     },
     "metadata": {},
     "output_type": "display_data"
    }
   ],
   "source": [
    "import matplotlib.pyplot as plt\n",
    "\n",
    "PCA_final['meanshift_label']  = cluster_labels\n",
    "print(PCA_final)\n",
    "centers = meanshift.cluster_centers_\n",
    "unique_labels = np.unique(cluster_labels)\n",
    "markers=['o', 's', '^', 'x', '*']\n",
    "\n",
    "for label in unique_labels:\n",
    "    label_cluster = PCA_final[PCA_final['meanshift_label']==label]\n",
    "    center_x_y = centers[label]\n",
    "    # 군집별로 다른 marker로 scatter plot 적용\n",
    "    plt.scatter(x=label_cluster['X'], y=label_cluster['Y'], edgecolor='k', \n",
    "                marker=markers[label] )\n",
    "    \n",
    "    # 군집별 중심 시각화\n",
    "    plt.scatter(x=center_x_y[0], y=center_x_y[1], s=200, color='white',\n",
    "                edgecolor='k', alpha=0.9, marker=markers[label])\n",
    "    plt.scatter(x=center_x_y[0], y=center_x_y[1], s=70, color='k', edgecolor='k', \n",
    "                marker='$%d$' % label)\n",
    "    \n",
    "plt.show()"
   ],
   "metadata": {
    "collapsed": false,
    "ExecuteTime": {
     "end_time": "2023-11-23T17:43:57.046840300Z",
     "start_time": "2023-11-23T17:43:56.881890600Z"
    }
   },
   "id": "e2ce833277b0e19d"
  },
  {
   "cell_type": "code",
   "execution_count": null,
   "outputs": [],
   "source": [],
   "metadata": {
    "collapsed": false
   },
   "id": "25de72f1762ae90f"
  }
 ],
 "metadata": {
  "kernelspec": {
   "display_name": "Python 3",
   "language": "python",
   "name": "python3"
  },
  "language_info": {
   "codemirror_mode": {
    "name": "ipython",
    "version": 2
   },
   "file_extension": ".py",
   "mimetype": "text/x-python",
   "name": "python",
   "nbconvert_exporter": "python",
   "pygments_lexer": "ipython2",
   "version": "2.7.6"
  }
 },
 "nbformat": 4,
 "nbformat_minor": 5
}
