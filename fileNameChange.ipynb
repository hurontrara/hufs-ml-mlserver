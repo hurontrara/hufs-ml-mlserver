{
 "cells": [
  {
   "cell_type": "code",
   "execution_count": 1,
   "id": "605093f6",
   "metadata": {},
   "outputs": [
    {
     "name": "stdout",
     "output_type": "stream",
     "text": [
      "500\n"
     ]
    }
   ],
   "source": [
    "import os\n",
    "\n",
    "files = os.listdir()\n",
    "files.remove('.ipynb_checkpoints')\n",
    "files.remove('fileNameChange.ipynb')\n",
    "print(len(files))"
   ]
  },
  {
   "cell_type": "code",
   "execution_count": 2,
   "id": "3ac00ec4",
   "metadata": {},
   "outputs": [
    {
     "data": {
      "text/plain": [
       "'C:\\\\Users\\\\Study\\\\Desktop\\\\Projects\\\\학교_과제\\\\기계학습\\\\기말프로젝트\\\\rawData\\\\최선빈-20231110T235103Z-001\\\\최선빈\\\\최선빈500'"
      ]
     },
     "execution_count": 2,
     "metadata": {},
     "output_type": "execute_result"
    }
   ],
   "source": [
    "base_name = 'file'\n",
    "directory = os.getcwd()\n",
    "directory"
   ]
  },
  {
   "cell_type": "code",
   "execution_count": 3,
   "id": "c94c830d",
   "metadata": {},
   "outputs": [
    {
     "name": "stdout",
     "output_type": "stream",
     "text": [
      "파일 이름이 성공적으로 변경되었습니다.\n"
     ]
    }
   ],
   "source": [
    "for i, file_name in enumerate(files):\n",
    "\n",
    "    i += 2000  # 각자 부여된 번호에 따라 커스터마이즈... 선빈 : 2001부터 시작이므로\n",
    "    \n",
    "    old_path = os.path.join(directory, file_name)\n",
    "\n",
    "    if file_name[-3:] == 'jpg':\n",
    "        string = '.jpg'\n",
    "    elif file_name[-3:] == 'png':\n",
    "        string = '.png'\n",
    "    else:\n",
    "        string = '.webp'\n",
    "    \n",
    "    # 새로운 파일 이름 생성\n",
    "    new_file_name = f\"{base_name}_{i + 1}\" + string\n",
    "\n",
    "    # 새로운 파일의 경로\n",
    "    new_path = os.path.join(directory, new_file_name)\n",
    "\n",
    "    # 파일 이름 변경\n",
    "    os.rename(old_path, new_path)\n",
    "\n",
    "print(\"파일 이름이 성공적으로 변경되었습니다.\")\n"
   ]
  },
  {
   "cell_type": "code",
   "execution_count": null,
   "id": "356a83a2",
   "metadata": {},
   "outputs": [],
   "source": []
  }
 ],
 "metadata": {
  "kernelspec": {
   "display_name": "Python 3",
   "language": "python",
   "name": "python3"
  },
  "language_info": {
   "codemirror_mode": {
    "name": "ipython",
    "version": 3
   },
   "file_extension": ".py",
   "mimetype": "text/x-python",
   "name": "python",
   "nbconvert_exporter": "python",
   "pygments_lexer": "ipython3",
   "version": "3.8.8"
  }
 },
 "nbformat": 4,
 "nbformat_minor": 5
}
